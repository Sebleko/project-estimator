{
 "cells": [
  {
   "cell_type": "code",
   "execution_count": null,
   "metadata": {},
   "outputs": [],
   "source": []
  },
  {
   "cell_type": "code",
   "execution_count": 1,
   "metadata": {},
   "outputs": [],
   "source": [
    "%reload_ext autoreload\n",
    "%autoreload 2"
   ]
  },
  {
   "cell_type": "code",
   "execution_count": 2,
   "metadata": {},
   "outputs": [],
   "source": [
    "import os\n",
    "from getpass import getpass\n",
    "from dotenv import load_dotenv\n",
    "\n",
    "\n",
    "load_dotenv(\"../.env\")\n",
    "\n",
    "def _getpass(env_var: str):\n",
    "    if not os.environ.get(env_var):\n",
    "        os.environ[env_var] = getpass(f\"{env_var}=\")\n",
    "\n",
    "\n",
    "_getpass(\"OPENAI_API_KEY\")"
   ]
  },
  {
   "cell_type": "code",
   "execution_count": null,
   "metadata": {},
   "outputs": [
    {
     "ename": "ImportError",
     "evalue": "attempted relative import with no known parent package",
     "output_type": "error",
     "traceback": [
      "\u001b[0;31m---------------------------------------------------------------------------\u001b[0m",
      "\u001b[0;31mImportError\u001b[0m                               Traceback (most recent call last)",
      "Cell \u001b[0;32mIn[3], line 1\u001b[0m\n\u001b[0;32m----> 1\u001b[0m \u001b[38;5;28;01mfrom\u001b[39;00m\u001b[38;5;250m \u001b[39m\u001b[38;5;21;01m.\u001b[39;00m\u001b[38;5;21;01magents\u001b[39;00m\u001b[38;5;250m \u001b[39m\u001b[38;5;28;01mimport\u001b[39;00m build_architecture_design_graph\n\u001b[1;32m      2\u001b[0m \u001b[38;5;28;01mfrom\u001b[39;00m\u001b[38;5;250m \u001b[39m\u001b[38;5;21;01mlanggraph\u001b[39;00m\u001b[38;5;21;01m.\u001b[39;00m\u001b[38;5;21;01mcheckpoint\u001b[39;00m\u001b[38;5;21;01m.\u001b[39;00m\u001b[38;5;21;01mmemory\u001b[39;00m\u001b[38;5;250m \u001b[39m\u001b[38;5;28;01mimport\u001b[39;00m MemorySaver\n\u001b[1;32m      3\u001b[0m \u001b[38;5;28;01mfrom\u001b[39;00m\u001b[38;5;250m \u001b[39m\u001b[38;5;21;01mlanggraph\u001b[39;00m\u001b[38;5;21;01m.\u001b[39;00m\u001b[38;5;21;01mtypes\u001b[39;00m\u001b[38;5;250m \u001b[39m\u001b[38;5;28;01mimport\u001b[39;00m interrupt, Command\n",
      "\u001b[0;31mImportError\u001b[0m: attempted relative import with no known parent package"
     ]
    }
   ],
   "source": [
    "from agents import build_architecture_design_graph\n",
    "from langgraph.checkpoint.memory import MemorySaver\n",
    "from langgraph.types import interrupt, Command\n",
    "\n",
    "from state import State\n",
    "\n",
    "workflow = build_architecture_design_graph()\n",
    "app = workflow.compile()\n",
    "\n",
    "thread_config = {\"configurable\": {\"thread_id\": \"1\"}}\n",
    "checkpointer = MemorySaver()\n",
    "app = workflow.compile(checkpointer=checkpointer)\n",
    "\n",
    "initial_state = State(project_description=\"\"\"\n",
    "Project: Customer Relationship Management System with Integrated E-commerce\n",
    "Our mid-sized clothing retail business (15 physical stores across the Northeast and a growing online presence) needs a comprehensive CRM system to better manage our customer relationships and integrate with our existing e-commerce platform.\n",
    "Currently, we're using a combination of spreadsheets, email marketing tools, and our e-commerce platform's basic customer features, but we need a unified solution. We want to track customer interactions across channels (in-store, online, customer service), personalize marketing campaigns, and improve our loyalty program.\n",
    "The system should allow our sales staff to access customer purchase history and preferences, enable marketing to segment customers for targeted campaigns, and provide management with sales analytics and reporting. It should also integrate with our existing Shopify e-commerce platform and POS systems.\n",
    "We have approximately 50,000 active customers, process about 2,000 transactions daily, and send marketing campaigns weekly. Our IT team has experience with cloud-based solutions, and we prefer a solution that doesn't require significant on-premise infrastructure.\n",
    "Budget is a consideration, but we're willing to invest in a solution that will scale with our business as we plan to expand to 25 stores within three years and double our online sales.\n",
    "\"\"\")\n",
    "\n",
    "final_state = await app.ainvoke(initial_state, config=thread_config)\n",
    "state = app.get_state(thread_config)\n",
    "tasks = state.tasks[0].interrupts[0].value\n",
    "\n",
    "\n",
    "if tasks[\"interrupt_type\"] == \"questions\":\n",
    "    answers = {}\n",
    "    for question in tasks[\"questions\"]:\n",
    "        print(f\"Question: {question}\")\n",
    "        answer = input(\"Answer: \")\n",
    "        answers[question] = answer\n",
    "\n",
    "    final_state = await app.ainvoke(Command(resume=answer), config=thread_config)\n",
    "\n",
    "final_state\n",
    "\n"
   ]
  }
 ],
 "metadata": {
  "kernelspec": {
   "display_name": ".venv",
   "language": "python",
   "name": "python3"
  },
  "language_info": {
   "codemirror_mode": {
    "name": "ipython",
    "version": 3
   },
   "file_extension": ".py",
   "mimetype": "text/x-python",
   "name": "python",
   "nbconvert_exporter": "python",
   "pygments_lexer": "ipython3",
   "version": "3.13.1"
  }
 },
 "nbformat": 4,
 "nbformat_minor": 2
}
